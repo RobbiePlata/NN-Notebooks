{
 "cells": [
  {
   "cell_type": "code",
   "execution_count": 1,
   "metadata": {},
   "outputs": [],
   "source": [
    "import torch\n",
    "import torch.nn as nn\n",
    "import torch.nn.functional as F\n",
    "from torch.utils.data import DataLoader\n",
    "from torchvision import datasets, transforms\n",
    "import numpy as np\n",
    "import pandas as pd\n",
    "from sklearn.metrics import confusion_matrix\n",
    "import matplotlib.pyplot as plt\n",
    "import time\n",
    "%matplotlib inline"
   ]
  },
  {
   "cell_type": "code",
   "execution_count": 157,
   "metadata": {},
   "outputs": [],
   "source": [
    "transform = transforms.ToTensor()"
   ]
  },
  {
   "cell_type": "markdown",
   "metadata": {},
   "source": [
    "### MNIST Dataset "
   ]
  },
  {
   "cell_type": "code",
   "execution_count": 3,
   "metadata": {
    "scrolled": true
   },
   "outputs": [],
   "source": [
    "train_data = datasets.MNIST(root='./Data/', train=True, download=True, transform=transform)"
   ]
  },
  {
   "cell_type": "code",
   "execution_count": 4,
   "metadata": {
    "scrolled": true
   },
   "outputs": [],
   "source": [
    "test_data = datasets.MNIST(root='./Data/', train=False, download=True, transform=transform)"
   ]
  },
  {
   "cell_type": "code",
   "execution_count": 5,
   "metadata": {},
   "outputs": [],
   "source": [
    "image, label = train_data[0]"
   ]
  },
  {
   "cell_type": "code",
   "execution_count": 6,
   "metadata": {},
   "outputs": [
    {
     "data": {
      "text/plain": [
       "<matplotlib.image.AxesImage at 0x1d315dfe208>"
      ]
     },
     "execution_count": 6,
     "metadata": {},
     "output_type": "execute_result"
    },
    {
     "data": {
      "image/png": "[encoded data removed]",
      "text/plain": [
       "<Figure size 432x288 with 1 Axes>"
      ]
     },
     "metadata": {
      "needs_background": "light"
     },
     "output_type": "display_data"
    }
   ],
   "source": [
    "plt.imshow(image.reshape(28,28), cmap='gray')"
   ]
  },
  {
   "cell_type": "code",
   "execution_count": 7,
   "metadata": {},
   "outputs": [
    {
     "data": {
      "text/plain": [
       "<torch._C.Generator at 0x1d30ceae330>"
      ]
     },
     "execution_count": 7,
     "metadata": {},
     "output_type": "execute_result"
    }
   ],
   "source": [
    "torch.manual_seed(101)"
   ]
  },
  {
   "cell_type": "markdown",
   "metadata": {},
   "source": [
    "### Setting a batch size for training and test data"
   ]
  },
  {
   "cell_type": "code",
   "execution_count": 8,
   "metadata": {},
   "outputs": [],
   "source": [
    "train_loader = DataLoader(train_data, batch_size=100, shuffle=True)"
   ]
  },
  {
   "cell_type": "code",
   "execution_count": 9,
   "metadata": {},
   "outputs": [],
   "source": [
    "test_loader = DataLoader(test_data, batch_size=500, shuffle=False)"
   ]
  },
  {
   "cell_type": "code",
   "execution_count": 10,
   "metadata": {},
   "outputs": [],
   "source": [
    "from torchvision.utils import make_grid\n",
    "np.set_printoptions(formatter=dict(int=lambda x: f'{x:4}' ))"
   ]
  },
  {
   "cell_type": "code",
   "execution_count": 11,
   "metadata": {},
   "outputs": [],
   "source": [
    "for images, labels in train_loader: # Loading a batch\n",
    "    break"
   ]
  },
  {
   "cell_type": "code",
   "execution_count": 12,
   "metadata": {},
   "outputs": [
    {
     "data": {
      "text/plain": [
       "torch.Size([100])"
      ]
     },
     "execution_count": 12,
     "metadata": {},
     "output_type": "execute_result"
    }
   ],
   "source": [
    "labels.shape"
   ]
  },
  {
   "cell_type": "code",
   "execution_count": 13,
   "metadata": {},
   "outputs": [
    {
     "name": "stdout",
     "output_type": "stream",
     "text": [
      "Labels:  [   0    5    7    8    6    7    9    7    1    3    8    4]\n"
     ]
    },
    {
     "data": {
      "text/plain": [
       "<matplotlib.image.AxesImage at 0x1d315eaaa58>"
      ]
     },
     "execution_count": 13,
     "metadata": {},
     "output_type": "execute_result"
    },
    {
     "data": {
      "image/png": "[encoded data removed]",
      "text/plain": [
       "<Figure size 720x288 with 1 Axes>"
      ]
     },
     "metadata": {
      "needs_background": "light"
     },
     "output_type": "display_data"
    }
   ],
   "source": [
    "print('Labels: ', labels[:12].numpy())\n",
    "im = make_grid(images[:12], nrow=12)\n",
    "plt.figure(figsize=(10,4))\n",
    "plt.imshow(np.transpose(im.numpy(), (1,2,0)))"
   ]
  },
  {
   "cell_type": "markdown",
   "metadata": {},
   "source": [
    "### MultilayerPerceptron\n",
    "- 28x28x1 input neurons, 10 output neurons\n",
    "- Default Inners 120, 84\n",
    "- FC layers ReLu Activations\n",
    "- Output Log softmax"
   ]
  },
  {
   "cell_type": "code",
   "execution_count": 14,
   "metadata": {},
   "outputs": [],
   "source": [
    "class MultilayerPerceptron(nn.Module):\n",
    "    \n",
    "    # Fully connected layers\n",
    "    # Relu Feed Forward\n",
    "    # Multi-class classification activation function (softmax)\n",
    "\n",
    "    def __init__(self, in_sz=784,out_sz=10,layers=[120,84]):\n",
    "        super().__init__()\n",
    "        self.fc1 = nn.Linear(in_sz, layers[0])\n",
    "        self.fc2 = nn.Linear(layers[0], layers[1])\n",
    "        self.fc3 = nn.Linear(layers[1], out_sz)\n",
    "\n",
    "    def forward(self, X):\n",
    "        X = F.relu(self.fc1(X))\n",
    "        X = F.relu(self.fc2(X))\n",
    "        X = self.fc3(X)\n",
    "        return F.log_softmax(X,dim=1)"
   ]
  },
  {
   "cell_type": "markdown",
   "metadata": {},
   "source": [
    "### Found good performance with 392 -> 196 inner layers"
   ]
  },
  {
   "cell_type": "code",
   "execution_count": 54,
   "metadata": {},
   "outputs": [],
   "source": [
    "torch.manual_seed(101)\n",
    "model = MultilayerPerceptron(784, 10, [392, 196])"
   ]
  },
  {
   "cell_type": "markdown",
   "metadata": {},
   "source": [
    "### Number of total connections between each layer"
   ]
  },
  {
   "cell_type": "code",
   "execution_count": 139,
   "metadata": {},
   "outputs": [
    {
     "name": "stdout",
     "output_type": "stream",
     "text": [
      "784\n",
      "307328\n",
      "392\n",
      "76832\n",
      "196\n",
      "1960\n",
      "10\n"
     ]
    }
   ],
   "source": [
    "for i, param in enumerate(model.parameters()):\n",
    "    if i == 0:\n",
    "        print(model.fc1.in_features)\n",
    "    print(param.numel())"
   ]
  },
  {
   "cell_type": "code",
   "execution_count": 155,
   "metadata": {},
   "outputs": [],
   "source": [
    "criterion = nn.CrossEntropyLoss() # Loss minimization function\n",
    "optimizer = torch.optim.Adam(model.parameters(), lr=0.001) # Optimizer steps"
   ]
  },
  {
   "cell_type": "code",
   "execution_count": 152,
   "metadata": {},
   "outputs": [
    {
     "data": {
      "text/plain": [
       "torch.Size([100, 784])"
      ]
     },
     "execution_count": 152,
     "metadata": {},
     "output_type": "execute_result"
    }
   ],
   "source": [
    "images.view(100, -1).shape"
   ]
  },
  {
   "cell_type": "markdown",
   "metadata": {},
   "source": [
    "### Training"
   ]
  },
  {
   "cell_type": "code",
   "execution_count": 156,
   "metadata": {},
   "outputs": [
    {
     "name": "stdout",
     "output_type": "stream",
     "text": [
      "Epoch 0 batch 200 loss <built-in method item of Tensor object at 0x000001D3257A8048> accuracy: 99.8\n",
      "Epoch 0 batch 400 loss <built-in method item of Tensor object at 0x000001D3160E0AB0> accuracy: 99.6725\n",
      "Epoch 0 batch 600 loss <built-in method item of Tensor object at 0x000001D316633C18> accuracy: 99.73166666666667\n",
      "Epoch 1 batch 200 loss <built-in method item of Tensor object at 0x000001D3160E0AB0> accuracy: 99.825\n",
      "Epoch 1 batch 400 loss <built-in method item of Tensor object at 0x000001D31609E1B0> accuracy: 99.865\n",
      "Epoch 1 batch 600 loss <built-in method item of Tensor object at 0x000001D31656D948> accuracy: 99.815\n",
      "Epoch 2 batch 200 loss <built-in method item of Tensor object at 0x000001D3160CD828> accuracy: 99.635\n",
      "Epoch 2 batch 400 loss <built-in method item of Tensor object at 0x000001D3160A5828> accuracy: 99.6925\n",
      "Epoch 2 batch 600 loss <built-in method item of Tensor object at 0x000001D31605F900> accuracy: 99.71166666666667\n",
      "Epoch 3 batch 200 loss <built-in method item of Tensor object at 0x000001D3160A5828> accuracy: 99.925\n",
      "Epoch 3 batch 400 loss <built-in method item of Tensor object at 0x000001D316532C18> accuracy: 99.925\n",
      "Epoch 3 batch 600 loss <built-in method item of Tensor object at 0x000001D3254BDBD0> accuracy: 99.90833333333333\n",
      "Epoch 4 batch 200 loss <built-in method item of Tensor object at 0x000001D31653BB40> accuracy: 99.835\n",
      "Epoch 4 batch 400 loss <built-in method item of Tensor object at 0x000001D31653BC18> accuracy: 99.815\n",
      "Epoch 4 batch 600 loss <built-in method item of Tensor object at 0x000001D3160CD828> accuracy: 99.78833333333333\n",
      "Epoch 5 batch 200 loss <built-in method item of Tensor object at 0x000001D31653BB40> accuracy: 99.705\n",
      "Epoch 5 batch 400 loss <built-in method item of Tensor object at 0x000001D3160E0AB0> accuracy: 99.72\n",
      "Epoch 5 batch 600 loss <built-in method item of Tensor object at 0x000001D31653BC18> accuracy: 99.74833333333333\n",
      "Epoch 6 batch 200 loss <built-in method item of Tensor object at 0x000001D3167B9E10> accuracy: 99.925\n",
      "Epoch 6 batch 400 loss <built-in method item of Tensor object at 0x000001D3167B9E10> accuracy: 99.9025\n",
      "Epoch 6 batch 600 loss <built-in method item of Tensor object at 0x000001D3167B9E10> accuracy: 99.89166666666667\n",
      "Epoch 7 batch 200 loss <built-in method item of Tensor object at 0x000001D3167B97E0> accuracy: 99.8\n",
      "Epoch 7 batch 400 loss <built-in method item of Tensor object at 0x000001D3167B97E0> accuracy: 99.81\n",
      "Epoch 7 batch 600 loss <built-in method item of Tensor object at 0x000001D3167B97E0> accuracy: 99.775\n",
      "Epoch 8 batch 200 loss <built-in method item of Tensor object at 0x000001D3167B9AB0> accuracy: 99.8\n",
      "Epoch 8 batch 400 loss <built-in method item of Tensor object at 0x000001D3167B9AB0> accuracy: 99.8075\n",
      "Epoch 8 batch 600 loss <built-in method item of Tensor object at 0x000001D3167B9AB0> accuracy: 99.80833333333334\n",
      "Epoch 9 batch 200 loss <built-in method item of Tensor object at 0x000001D3167B9BD0> accuracy: 99.9\n",
      "Epoch 9 batch 400 loss <built-in method item of Tensor object at 0x000001D3167B9BD0> accuracy: 99.875\n",
      "Epoch 9 batch 600 loss <built-in method item of Tensor object at 0x000001D3167B9BD0> accuracy: 99.85\n",
      "Duration: 1.4264329393704733 mins\n"
     ]
    }
   ],
   "source": [
    "start_time = time.time()\n",
    "\n",
    "epochs = 10\n",
    "train_losses = []\n",
    "test_losses = []\n",
    "train_correct = []\n",
    "test_correct = []\n",
    "\n",
    "for i in range(epochs):\n",
    "    trn_corr = 0\n",
    "    tst_corr = 0\n",
    "\n",
    "    for b, (X_train, y_train) in enumerate(train_loader):\n",
    "        b += 1\n",
    "\n",
    "        y_pred = model(X_train.view(100,-1))\n",
    "        loss = criterion(y_pred, y_train)\n",
    "\n",
    "        predicted = torch.max(y_pred.data, 1)[1]\n",
    "        batch_corr = (predicted == y_train).sum()\n",
    "        trn_corr += batch_corr\n",
    "\n",
    "        optimizer.zero_grad()\n",
    "        loss.backward()\n",
    "        optimizer.step()\n",
    "\n",
    "        if b%200 == 0:\n",
    "            accuracy = trn_corr.item()*100/(100*b)\n",
    "            print(f'Epoch {i} batch {b} loss {loss.item} accuracy: {accuracy}')\n",
    "\n",
    "    train_losses.append(loss)\n",
    "    train_correct.append(trn_corr)\n",
    "\n",
    "    # Test unseen\n",
    "    with torch.no_grad():\n",
    "        for b, (X_test, y_test) in enumerate(test_loader):\n",
    "            y_val = model(X_test.view(500, -1))\n",
    "            predicted = torch.max(y_val, 1)[1]\n",
    "            tst_corr += (predicted==y_test).sum()\n",
    "    \n",
    "    loss = criterion(y_val, y_test)\n",
    "    test_losses.append(loss)\n",
    "    test_correct.append(tst_corr)\n",
    "\n",
    "total_time = time.time() - start_time\n",
    "print(f'Duration: {total_time/60} mins')"
   ]
  },
  {
   "cell_type": "markdown",
   "metadata": {},
   "source": [
    "### Loss and test accuracy over epochs"
   ]
  },
  {
   "cell_type": "code",
   "execution_count": 154,
   "metadata": {
    "scrolled": true
   },
   "outputs": [
    {
     "data": {
      "text/plain": [
       "<matplotlib.legend.Legend at 0x1d3257c40b8>"
      ]
     },
     "execution_count": 154,
     "metadata": {},
     "output_type": "execute_result"
    },
    {
     "data": {
      "image/png": "[encoded data removed]",
      "text/plain": [
       "<Figure size 432x288 with 1 Axes>"
      ]
     },
     "metadata": {
      "needs_background": "light"
     },
     "output_type": "display_data"
    }
   ],
   "source": [
    "plt.plot(train_losses, label='Training Loss')\n",
    "plt.plot(test_losses, label='Test Loss')\n",
    "plt.legend()"
   ]
  },
  {
   "cell_type": "code",
   "execution_count": 145,
   "metadata": {},
   "outputs": [],
   "source": [
    "train_acc = [t/600 for t in train_correct]\n",
    "test_acc = [t/100 for t in test_correct]"
   ]
  },
  {
   "cell_type": "code",
   "execution_count": 153,
   "metadata": {
    "scrolled": true
   },
   "outputs": [
    {
     "data": {
      "text/plain": [
       "<matplotlib.legend.Legend at 0x1d316573d30>"
      ]
     },
     "execution_count": 153,
     "metadata": {},
     "output_type": "execute_result"
    },
    {
     "data": {
      "image/png": "[encoded data removed]",
      "text/plain": [
       "<Figure size 432x288 with 1 Axes>"
      ]
     },
     "metadata": {
      "needs_background": "light"
     },
     "output_type": "display_data"
    }
   ],
   "source": [
    "plt.plot(train_acc, label='Train Accuracy')\n",
    "plt.plot(test_acc, label='Test Accuracy')\n",
    "plt.legend()"
   ]
  },
  {
   "cell_type": "markdown",
   "metadata": {},
   "source": [
    "### Unseen test data with no gradient change"
   ]
  },
  {
   "cell_type": "code",
   "execution_count": 147,
   "metadata": {},
   "outputs": [],
   "source": [
    "test_load_all = DataLoader(test_data, batch_size=10000, shuffle=False)"
   ]
  },
  {
   "cell_type": "code",
   "execution_count": 148,
   "metadata": {},
   "outputs": [],
   "source": [
    "with torch.no_grad():\n",
    "    correct = 0\n",
    "\n",
    "    for X_test, y_test in test_load_all:\n",
    "        y_val = model(X_test.view(len(X_test), -1))\n",
    "        predicted = torch.max(y_val, 1)[1]\n",
    "        correct += (predicted == y_test).sum()"
   ]
  },
  {
   "cell_type": "code",
   "execution_count": 149,
   "metadata": {
    "scrolled": false
   },
   "outputs": [
    {
     "data": {
      "text/plain": [
       "97.96"
      ]
     },
     "execution_count": 149,
     "metadata": {},
     "output_type": "execute_result"
    }
   ],
   "source": [
    "100* correct.item()/len(test_data)"
   ]
  },
  {
   "cell_type": "code",
   "execution_count": 150,
   "metadata": {
    "scrolled": false
   },
   "outputs": [
    {
     "data": {
      "text/plain": [
       "array([[ 970,    1,    4,    0,    2,    1,    2,    1,    3,    0],\n",
       "       [   1, 1127,    2,    0,    0,    0,    3,    2,    0,    2],\n",
       "       [   1,    0, 1006,    2,    1,    0,    0,    5,    1,    0],\n",
       "       [   1,    1,    6,  995,    2,   18,    1,    0,    7,    5],\n",
       "       [   0,    0,    3,    0,  957,    2,    8,    0,    2,    5],\n",
       "       [   0,    1,    0,    4,    0,  849,    3,    0,    4,    0],\n",
       "       [   2,    1,    1,    0,    2,    4,  939,    0,    0,    0],\n",
       "       [   1,    2,    6,    4,    0,    2,    0, 1010,    4,    1],\n",
       "       [   1,    2,    4,    2,    0,    9,    2,    2,  948,    1],\n",
       "       [   3,    0,    0,    3,   18,    7,    0,    8,    5,  995]],\n",
       "      dtype=int64)"
      ]
     },
     "execution_count": 150,
     "metadata": {},
     "output_type": "execute_result"
    }
   ],
   "source": [
    "confusion_matrix(predicted.view(-1), y_test.view(-1))"
   ]
  }
 ],
 "metadata": {
  "kernelspec": {
   "display_name": "Python 3",
   "language": "python",
   "name": "python3"
  },
  "language_info": {
   "codemirror_mode": {
    "name": "ipython",
    "version": 3
   },
   "file_extension": ".py",
   "mimetype": "text/x-python",
   "name": "python",
   "nbconvert_exporter": "python",
   "pygments_lexer": "ipython3",
   "version": "3.7.3"
  }
 },
 "nbformat": 4,
 "nbformat_minor": 2
}
