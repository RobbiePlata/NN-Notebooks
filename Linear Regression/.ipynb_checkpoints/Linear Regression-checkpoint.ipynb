{
 "cells": [
  {
   "cell_type": "markdown",
   "metadata": {},
   "source": [
    "# Linear Regression Pytorch Demonstration\n",
    "Robbie Plata"
   ]
  },
  {
   "cell_type": "code",
   "execution_count": 1,
   "metadata": {},
   "outputs": [],
   "source": [
    "import matplotlib.pyplot as plt\n",
    "import torch\n",
    "import numpy as np\n",
    "%matplotlib inline\n",
    "from tqdm import trange\n",
    "import torch.nn as nn"
   ]
  },
  {
   "cell_type": "markdown",
   "metadata": {},
   "source": [
    "#### 50x1 linear float tensor"
   ]
  },
  {
   "cell_type": "code",
   "execution_count": 2,
   "metadata": {},
   "outputs": [],
   "source": [
    "X = torch.linspace(1,50,50).reshape(-1,1)"
   ]
  },
  {
   "cell_type": "markdown",
   "metadata": {},
   "source": [
    "#### 50x1 error tensor"
   ]
  },
  {
   "cell_type": "code",
   "execution_count": 3,
   "metadata": {},
   "outputs": [],
   "source": [
    "error = torch.randint(-8,9,(50,1), dtype=torch.float)"
   ]
  },
  {
   "cell_type": "markdown",
   "metadata": {},
   "source": [
    "$f(x) = 2(x) + 1 + error$"
   ]
  },
  {
   "cell_type": "code",
   "execution_count": 4,
   "metadata": {},
   "outputs": [],
   "source": [
    "y = 2*X + 1 + error"
   ]
  },
  {
   "cell_type": "code",
   "execution_count": 5,
   "metadata": {},
   "outputs": [
    {
     "data": {
      "text/plain": [
       "<matplotlib.collections.PathCollection at 0x22145a1f160>"
      ]
     },
     "execution_count": 5,
     "metadata": {},
     "output_type": "execute_result"
    },
    {
     "data": {
      "image/png": "[encoded data removed]",
      "text/plain": [
       "<Figure size 432x288 with 1 Axes>"
      ]
     },
     "metadata": {
      "needs_background": "light"
     },
     "output_type": "display_data"
    }
   ],
   "source": [
    "plt.scatter(X.numpy(), y.numpy())"
   ]
  },
  {
   "cell_type": "code",
   "execution_count": 6,
   "metadata": {
    "scrolled": true
   },
   "outputs": [
    {
     "data": {
      "text/plain": [
       "<torch._C.Generator at 0x22144694930>"
      ]
     },
     "execution_count": 6,
     "metadata": {},
     "output_type": "execute_result"
    }
   ],
   "source": [
    "torch.manual_seed(51)"
   ]
  },
  {
   "cell_type": "markdown",
   "metadata": {},
   "source": [
    "### Linear layer Test"
   ]
  },
  {
   "cell_type": "code",
   "execution_count": 7,
   "metadata": {},
   "outputs": [
    {
     "name": "stdout",
     "output_type": "stream",
     "text": [
      "Parameter containing:\n",
      "tensor([[0.9745]], requires_grad=True)\n",
      "Parameter containing:\n",
      "tensor([0.4807], requires_grad=True)\n"
     ]
    }
   ],
   "source": [
    "model = nn.Linear(1,1)\n",
    "print(model.weight)\n",
    "print(model.bias)"
   ]
  },
  {
   "cell_type": "markdown",
   "metadata": {},
   "source": [
    "### Single Layer Linear Regression Model with no actuation"
   ]
  },
  {
   "cell_type": "code",
   "execution_count": 8,
   "metadata": {},
   "outputs": [],
   "source": [
    "class Model(nn.Module):\n",
    "    \n",
    "    def __init__(self, in_features, out_features):\n",
    "        super().__init__() # Inherit\n",
    "        self.linear = nn.Linear(in_features, out_features)\n",
    "    \n",
    "    def forward(self, x):\n",
    "        y_pred = self.linear(x)\n",
    "        return y_pred"
   ]
  },
  {
   "cell_type": "markdown",
   "metadata": {},
   "source": [
    "### Single Neuron Model tracking gradient"
   ]
  },
  {
   "cell_type": "code",
   "execution_count": 9,
   "metadata": {},
   "outputs": [
    {
     "name": "stdout",
     "output_type": "stream",
     "text": [
      "Parameter containing:\n",
      "tensor([[0.9745]], requires_grad=True)\n",
      "Parameter containing:\n",
      "tensor([0.4807], requires_grad=True)\n"
     ]
    }
   ],
   "source": [
    "torch.manual_seed(51)\n",
    "model = Model(1,1)\n",
    "print(model.linear.weight)\n",
    "print(model.linear.bias)"
   ]
  },
  {
   "cell_type": "markdown",
   "metadata": {},
   "source": [
    "### Weight and bias by given manual seed"
   ]
  },
  {
   "cell_type": "code",
   "execution_count": 10,
   "metadata": {
    "scrolled": false
   },
   "outputs": [
    {
     "name": "stdout",
     "output_type": "stream",
     "text": [
      "linear.weight \t 0.9744870662689209\n",
      "linear.bias \t 0.4807196855545044\n"
     ]
    }
   ],
   "source": [
    "for name, param in model.named_parameters():\n",
    "    print(name, '\\t', param.item())"
   ]
  },
  {
   "cell_type": "markdown",
   "metadata": {},
   "source": [
    "### Forward Propogation\n",
    "$\\sum\\limits_{i=1}^n z(x) = (w_{i}x_{i}) + b_{i}$"
   ]
  },
  {
   "cell_type": "code",
   "execution_count": 11,
   "metadata": {},
   "outputs": [
    {
     "name": "stdout",
     "output_type": "stream",
     "text": [
      "tensor([2.4297], grad_fn=<AddBackward0>)\n"
     ]
    }
   ],
   "source": [
    "x = torch.tensor([2.0])\n",
    "print(model.forward(x))"
   ]
  },
  {
   "cell_type": "code",
   "execution_count": 12,
   "metadata": {},
   "outputs": [],
   "source": [
    "x1 = np.linspace(0.0, 50.0, 50)"
   ]
  },
  {
   "cell_type": "markdown",
   "metadata": {},
   "source": [
    "### Applying and plotting an arbitrary weight and bias to a linspace tensor"
   ]
  },
  {
   "cell_type": "code",
   "execution_count": 13,
   "metadata": {},
   "outputs": [
    {
     "data": {
      "text/plain": [
       "array([ 0.4807    ,  1.47498571,  2.46927143,  3.46355714,  4.45784286,\n",
       "        5.45212857,  6.44641429,  7.4407    ,  8.43498571,  9.42927143,\n",
       "       10.42355714, 11.41784286, 12.41212857, 13.40641429, 14.4007    ,\n",
       "       15.39498571, 16.38927143, 17.38355714, 18.37784286, 19.37212857,\n",
       "       20.36641429, 21.3607    , 22.35498571, 23.34927143, 24.34355714,\n",
       "       25.33784286, 26.33212857, 27.32641429, 28.3207    , 29.31498571,\n",
       "       30.30927143, 31.30355714, 32.29784286, 33.29212857, 34.28641429,\n",
       "       35.2807    , 36.27498571, 37.26927143, 38.26355714, 39.25784286,\n",
       "       40.25212857, 41.24641429, 42.2407    , 43.23498571, 44.22927143,\n",
       "       45.22355714, 46.21784286, 47.21212857, 48.20641429, 49.2007    ])"
      ]
     },
     "execution_count": 13,
     "metadata": {},
     "output_type": "execute_result"
    }
   ],
   "source": [
    "w1 = 0.9744\n",
    "b = 0.4807\n",
    "y1 = w1*x1 + b\n",
    "y1"
   ]
  },
  {
   "cell_type": "code",
   "execution_count": 14,
   "metadata": {},
   "outputs": [
    {
     "data": {
      "text/plain": [
       "<matplotlib.collections.PathCollection at 0x22145a8d470>"
      ]
     },
     "execution_count": 14,
     "metadata": {},
     "output_type": "execute_result"
    },
    {
     "data": {
      "image/png": "[encoded data removed]",
      "text/plain": [
       "<Figure size 432x288 with 1 Axes>"
      ]
     },
     "metadata": {
      "needs_background": "light"
     },
     "output_type": "display_data"
    }
   ],
   "source": [
    "plt.plot(x1,y1, 'red')\n",
    "plt.scatter(X.numpy(), y.numpy())"
   ]
  },
  {
   "cell_type": "markdown",
   "metadata": {},
   "source": [
    "### Mean squared error \n",
    "$MSE = \\frac{1}{n}\\sum\\limits_{i=1}^n (Y_{i} - \\hat{Y}_{i})^2$\n",
    "\n",
    "(The average of the squared differences between the predicted and actual values)"
   ]
  },
  {
   "cell_type": "code",
   "execution_count": 15,
   "metadata": {},
   "outputs": [],
   "source": [
    "criterion = nn.MSELoss()"
   ]
  },
  {
   "cell_type": "markdown",
   "metadata": {},
   "source": [
    "### Stochastic gradient descent with step size of 0.001\n",
    "Uses the cost gradient of 1 example at each iteration.\n",
    "Calculates the error for each example in the training dataset but only updates the model have all training examples are evaluated. Tiny step size."
   ]
  },
  {
   "cell_type": "code",
   "execution_count": 16,
   "metadata": {},
   "outputs": [],
   "source": [
    "optimizer = torch.optim.SGD(model.parameters(), lr=0.001)"
   ]
  },
  {
   "cell_type": "markdown",
   "metadata": {},
   "source": [
    "### Training\n",
    "1. 50 Epochs/Iterations (total passes through the dataset). \n",
    "2. Feed to output neuron.\n",
    "3. Calculate loss with mean squared error.\n",
    "4. Track Loss.\n",
    "5. Reset gradient (zero).\n",
    "6. Minimize the cost function (backpropogate) by\n",
    "\n",
    "Compute the rate of change of C (cost) with respect to the output activations starting at the last layer L and finishing with with L-1 where L=2 (the last back propogation).\n",
    "\n",
    "$δ^L=\\nabla_{a} C ⊙ \\sigma' (z^L)$\n",
    "\n",
    "Or\n",
    "\n",
    "$δ^L=(a^L-y) ⊙ \\sigma' (z^L)$\n",
    "\n",
    "This gives us the error.\n",
    "\n",
    "Move the error backwards through the activation functions in layer \n",
    "${l}$. Written out in terms of the error in the next layer (moving backwards).\n",
    "\n",
    "$δ^l = (w^{l+1})^T δ^{l+1} ⊙ \\sigma'(z^l)$\n",
    "\n",
    "- $y$ - True value\n",
    "- $a^L$ - Activation of last output layer\n",
    "- ${⊙}$ - Hadamard product\n",
    "- ${𝜎}'$ - Activation\n",
    "- $L$ - Last output layer\n",
    "- ${l}$ - Layer\n",
    "- ${T}$ - Transpose\n",
    "\n",
    "\n",
    "The gradient of the cost function is given by \n",
    "\n",
    "### $\\frac {\\partial C} {\\partial w^{l}_{jk}} = a^{l-1}_{k} δ^l_{j}$\n",
    "\n",
    "### $\\frac {\\partial C} {\\partial b^{l}_{j}} = δ^l_{j}$\n",
    "\n",
    "7. Perform a parameter update (step) based on the gradient stored in paramater.grad.\n",
    "\n",
    "Note: No activations for linear regression."
   ]
  },
  {
   "cell_type": "code",
   "execution_count": 17,
   "metadata": {},
   "outputs": [
    {
     "name": "stderr",
     "output_type": "stream",
     "text": [
      "\r",
      "  0%|                                                                                           | 0/50 [00:00<?, ?it/s]"
     ]
    },
    {
     "name": "stdout",
     "output_type": "stream",
     "text": [
      "epoch 1 loss: 900.6716918945312 weight: 0.9744870662689209 bias: 0.4807196855545044\n"
     ]
    },
    {
     "name": "stderr",
     "output_type": "stream",
     "text": [
      "100%|█████████████████████████████████████████████████████████████████████████████████| 50/50 [00:00<00:00, 156.01it/s]"
     ]
    },
    {
     "name": "stdout",
     "output_type": "stream",
     "text": [
      "epoch 2 loss: 476.617431640625 weight: 2.709535837173462 bias: 0.5315393805503845\n",
      "epoch 3 loss: 257.6933288574219 weight: 1.4629143476486206 bias: 0.49376997351646423\n",
      "epoch 4 loss: 144.6705322265625 weight: 2.358668327331543 bias: 0.5196537971496582\n",
      "epoch 5 loss: 86.32054138183594 weight: 1.7150925397872925 bias: 0.4998024106025696\n",
      "epoch 6 loss: 56.19631576538086 weight: 2.177548885345459 bias: 0.5128130912780762\n",
      "epoch 7 loss: 40.64394760131836 weight: 1.8453041315078735 bias: 0.5022124648094177\n",
      "epoch 8 loss: 32.61460494995117 weight: 2.084064245223999 bias: 0.5085775256156921\n",
      "epoch 9 loss: 28.46905517578125 weight: 1.912548542022705 bias: 0.5027530789375305\n",
      "epoch 10 loss: 26.328596115112305 weight: 2.0358221530914307 bias: 0.5056875944137573\n",
      "epoch 11 loss: 25.22331428527832 weight: 1.947285532951355 bias: 0.5023292899131775\n",
      "epoch 12 loss: 24.652441024780273 weight: 2.010937452316284 bias: 0.503493070602417\n",
      "epoch 13 loss: 24.35746192932129 weight: 1.9652396440505981 bias: 0.5014082789421082\n",
      "epoch 14 loss: 24.204923629760742 weight: 1.9981112480163574 bias: 0.5016582608222961\n",
      "epoch 15 loss: 24.125911712646484 weight: 1.97452974319458 bias: 0.5002312660217285\n",
      "epoch 16 loss: 24.084871292114258 weight: 1.9915103912353516 bias: 0.5000097751617432\n",
      "epoch 17 loss: 24.063434600830078 weight: 1.9793466329574585 bias: 0.498922735452652\n",
      "epoch 18 loss: 24.052108764648438 weight: 1.9881234169006348 bias: 0.49845820665359497\n",
      "epoch 19 loss: 24.046005249023438 weight: 1.9818540811538696 bias: 0.4975470006465912\n",
      "epoch 20 loss: 24.042606353759766 weight: 1.9863958358764648 bias: 0.49695736169815063\n",
      "epoch 21 loss: 24.04059600830078 weight: 1.983169436454773 bias: 0.49613726139068604\n",
      "epoch 22 loss: 24.039306640625 weight: 1.9855245351791382 bias: 0.4954833388328552\n",
      "epoch 23 loss: 24.038387298583984 weight: 1.983869194984436 bias: 0.49471062421798706\n",
      "epoch 24 loss: 24.037660598754883 weight: 1.985095500946045 bias: 0.494023859500885\n",
      "epoch 25 loss: 24.037031173706055 weight: 1.9842512607574463 bias: 0.4932759404182434\n",
      "epoch 26 loss: 24.036457061767578 weight: 1.9848947525024414 bias: 0.4925725758075714\n",
      "epoch 27 loss: 24.03590965270996 weight: 1.9844694137573242 bias: 0.4918377995491028\n",
      "epoch 28 loss: 24.035367965698242 weight: 1.984811782836914 bias: 0.4911261796951294\n",
      "epoch 29 loss: 24.03484535217285 weight: 1.984602451324463 bias: 0.4903985261917114\n",
      "epoch 30 loss: 24.034320831298828 weight: 1.9847896099090576 bias: 0.48968300223350525\n",
      "epoch 31 loss: 24.033803939819336 weight: 1.9846919775009155 bias: 0.4889593720436096\n",
      "epoch 32 loss: 24.03327751159668 weight: 1.9847989082336426 bias: 0.48824214935302734\n",
      "epoch 33 loss: 24.03276252746582 weight: 1.984758734703064 bias: 0.4875209331512451\n",
      "epoch 34 loss: 24.03224754333496 weight: 1.9848244190216064 bias: 0.48680320382118225\n",
      "epoch 35 loss: 24.031726837158203 weight: 1.984813928604126 bias: 0.4860835373401642\n",
      "epoch 36 loss: 24.03120994567871 weight: 1.9848581552505493 bias: 0.4853658676147461\n",
      "epoch 37 loss: 24.03069496154785 weight: 1.984863042831421 bias: 0.48464736342430115\n",
      "epoch 38 loss: 24.03017807006836 weight: 1.9848960638046265 bias: 0.4839300513267517\n",
      "epoch 39 loss: 24.029664993286133 weight: 1.9849090576171875 bias: 0.48321250081062317\n",
      "epoch 40 loss: 24.029146194458008 weight: 1.984936237335205 bias: 0.4824957251548767\n",
      "epoch 41 loss: 24.028636932373047 weight: 1.9849534034729004 bias: 0.48177897930145264\n",
      "epoch 42 loss: 24.02812385559082 weight: 1.9849776029586792 bias: 0.48106279969215393\n",
      "epoch 43 loss: 24.027610778808594 weight: 1.9849969148635864 bias: 0.48034682869911194\n",
      "epoch 44 loss: 24.027099609375 weight: 1.9850194454193115 bias: 0.47963130474090576\n",
      "epoch 45 loss: 24.02659034729004 weight: 1.9850399494171143 bias: 0.4789160490036011\n",
      "epoch 46 loss: 24.02607536315918 weight: 1.985061764717102 bias: 0.4782011806964874\n",
      "epoch 47 loss: 24.02556610107422 weight: 1.9850822687149048 bias: 0.47748661041259766\n",
      "epoch 48 loss: 24.025047302246094 weight: 1.9851042032241821 bias: 0.4767724275588989\n",
      "epoch 49 loss: 24.024539947509766 weight: 1.9851248264312744 bias: 0.47605857253074646\n",
      "epoch 50 loss: 24.024036407470703 weight: 1.9851465225219727 bias: 0.47534507513046265\n"
     ]
    },
    {
     "name": "stderr",
     "output_type": "stream",
     "text": [
      "\n"
     ]
    }
   ],
   "source": [
    "epochs = 50 # 1\n",
    "losses = []\n",
    "\n",
    "for i in trange(epochs):\n",
    "    i += 1\n",
    "    y_pred = model.forward(X) # 2\n",
    "    loss = criterion(y_pred, y) # 3\n",
    "    losses.append(loss) # 4\n",
    "    print(f'epoch {i} loss: {loss.item()} weight: {model.linear.weight.item()} bias: {model.linear.bias.item()}')\n",
    "    optimizer.zero_grad() # 5\n",
    "    loss.backward() # 6\n",
    "    optimizer.step() # 7\n",
    "    "
   ]
  },
  {
   "cell_type": "markdown",
   "metadata": {},
   "source": [
    "### Convergence around the 10th epoch."
   ]
  },
  {
   "cell_type": "code",
   "execution_count": 18,
   "metadata": {
    "scrolled": false
   },
   "outputs": [
    {
     "data": {
      "text/plain": [
       "Text(0.5, 0, 'Epoch')"
      ]
     },
     "execution_count": 18,
     "metadata": {},
     "output_type": "execute_result"
    },
    {
     "data": {
      "image/png": "[encoded data removed]",
      "text/plain": [
       "<Figure size 432x288 with 1 Axes>"
      ]
     },
     "metadata": {
      "needs_background": "light"
     },
     "output_type": "display_data"
    }
   ],
   "source": [
    "plt.plot(X.numpy(), losses)\n",
    "plt.ylabel('MSE LOSS')\n",
    "plt.xlabel('Epoch')"
   ]
  },
  {
   "cell_type": "markdown",
   "metadata": {},
   "source": [
    "### Plot of prediction\n",
    "predicted_y (current weight + bias) fits to the 1x50 (2x + 1 + error) tensor.\n"
   ]
  },
  {
   "cell_type": "code",
   "execution_count": 19,
   "metadata": {},
   "outputs": [
    {
     "data": {
      "text/plain": [
       "<matplotlib.legend.Legend at 0x22145baed68>"
      ]
     },
     "execution_count": 19,
     "metadata": {},
     "output_type": "execute_result"
    },
    {
     "data": {
      "image/png": "[encoded data removed]",
      "text/plain": [
       "<Figure size 432x288 with 1 Axes>"
      ]
     },
     "metadata": {
      "needs_background": "light"
     },
     "output_type": "display_data"
    }
   ],
   "source": [
    "x = np.linspace(0.0, 50.0, 50)\n",
    "current_weight = model.linear.weight.item()\n",
    "current_bias = model.linear.bias.item()\n",
    "predicted_y = current_weight*x + current_bias\n",
    "plt.scatter(X.numpy(), y.numpy(), label=\"Original values\") # Original values\n",
    "plt.plot(x, predicted_y, 'r', label=\"Fit\") # Linear fit to dataset\n",
    "plt.legend()"
   ]
  }
 ],
 "metadata": {
  "kernelspec": {
   "display_name": "Python 3",
   "language": "python",
   "name": "python3"
  },
  "language_info": {
   "codemirror_mode": {
    "name": "ipython",
    "version": 3
   },
   "file_extension": ".py",
   "mimetype": "text/x-python",
   "name": "python",
   "nbconvert_exporter": "python",
   "pygments_lexer": "ipython3",
   "version": "3.7.3"
  }
 },
 "nbformat": 4,
 "nbformat_minor": 4
}
