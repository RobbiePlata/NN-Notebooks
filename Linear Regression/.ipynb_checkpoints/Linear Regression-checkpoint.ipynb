{
 "cells": [
  {
   "cell_type": "markdown",
   "metadata": {},
   "source": [
    "# Linear Regression Pytorch Demonstration"
   ]
  },
  {
   "cell_type": "code",
   "execution_count": 25,
   "metadata": {},
   "outputs": [],
   "source": [
    "import matplotlib.pyplot as plt\n",
    "import torch\n",
    "import numpy as np\n",
    "%matplotlib inline\n",
    "\n",
    "from tqdm import trange"
   ]
  },
  {
   "cell_type": "code",
   "execution_count": 26,
   "metadata": {},
   "outputs": [],
   "source": [
    "import torch.nn as nn"
   ]
  },
  {
   "cell_type": "markdown",
   "metadata": {},
   "source": [
    "### 50x50 linear float tensor"
   ]
  },
  {
   "cell_type": "code",
   "execution_count": 53,
   "metadata": {},
   "outputs": [],
   "source": [
    "X = torch.linspace(1,50,50).reshape(-1,1)"
   ]
  },
  {
   "cell_type": "code",
   "execution_count": 28,
   "metadata": {},
   "outputs": [],
   "source": [
    "error = torch.randint(-8,9,(50,1), dtype=torch.float)"
   ]
  },
  {
   "cell_type": "code",
   "execution_count": 29,
   "metadata": {},
   "outputs": [],
   "source": [
    "y = 2*X + 1 + error"
   ]
  },
  {
   "cell_type": "code",
   "execution_count": 30,
   "metadata": {},
   "outputs": [
    {
     "data": {
      "text/plain": [
       "<matplotlib.collections.PathCollection at 0x19e4c8239b0>"
      ]
     },
     "execution_count": 30,
     "metadata": {},
     "output_type": "execute_result"
    },
    {
     "data": {
      "image/png": "[encoded data removed]",
      "text/plain": [
       "<Figure size 432x288 with 1 Axes>"
      ]
     },
     "metadata": {
      "needs_background": "light"
     },
     "output_type": "display_data"
    }
   ],
   "source": [
    "plt.scatter(X.numpy(), y.numpy())"
   ]
  },
  {
   "cell_type": "code",
   "execution_count": 31,
   "metadata": {},
   "outputs": [
    {
     "data": {
      "text/plain": [
       "<torch._C.Generator at 0x19e481c6990>"
      ]
     },
     "execution_count": 31,
     "metadata": {},
     "output_type": "execute_result"
    }
   ],
   "source": [
    "torch.manual_seed(51)"
   ]
  },
  {
   "cell_type": "code",
   "execution_count": 32,
   "metadata": {},
   "outputs": [
    {
     "name": "stdout",
     "output_type": "stream",
     "text": [
      "Parameter containing:\n",
      "tensor([[0.9745]], requires_grad=True)\n",
      "Parameter containing:\n",
      "tensor([0.4807], requires_grad=True)\n"
     ]
    }
   ],
   "source": [
    "model = nn.Linear(1,1)\n",
    "print(model.weight)\n",
    "print(model.bias)"
   ]
  },
  {
   "cell_type": "code",
   "execution_count": 33,
   "metadata": {},
   "outputs": [],
   "source": [
    "class Model(nn.Module):\n",
    "    \n",
    "    def __init__(self, in_features, out_features):\n",
    "        super().__init__()\n",
    "        self.linear = nn.Linear(in_features, out_features)\n",
    "    \n",
    "    def forward(self, x):\n",
    "        y_pred = self.linear(x)\n",
    "        return y_pred"
   ]
  },
  {
   "cell_type": "code",
   "execution_count": 34,
   "metadata": {},
   "outputs": [
    {
     "name": "stdout",
     "output_type": "stream",
     "text": [
      "Parameter containing:\n",
      "tensor([[0.9745]], requires_grad=True)\n",
      "Parameter containing:\n",
      "tensor([0.4807], requires_grad=True)\n"
     ]
    }
   ],
   "source": [
    "torch.manual_seed(51)\n",
    "model = Model(1,1)\n",
    "print(model.linear.weight)\n",
    "print(model.linear.bias)"
   ]
  },
  {
   "cell_type": "code",
   "execution_count": 35,
   "metadata": {},
   "outputs": [
    {
     "name": "stdout",
     "output_type": "stream",
     "text": [
      "linear.weight \t 0.9744870662689209\n",
      "linear.bias \t 0.4807196855545044\n"
     ]
    }
   ],
   "source": [
    "for name,param in model.named_parameters():\n",
    "    print(name, '\\t', param.item())"
   ]
  },
  {
   "cell_type": "code",
   "execution_count": 36,
   "metadata": {},
   "outputs": [
    {
     "name": "stdout",
     "output_type": "stream",
     "text": [
      "tensor([2.4297], grad_fn=<AddBackward0>)\n"
     ]
    }
   ],
   "source": [
    "x = torch.tensor([2.0])\n",
    "print(model.forward(x))"
   ]
  },
  {
   "cell_type": "code",
   "execution_count": 37,
   "metadata": {},
   "outputs": [],
   "source": [
    "x1 = np.linspace(0.0, 50.0, 50)"
   ]
  },
  {
   "cell_type": "code",
   "execution_count": 38,
   "metadata": {},
   "outputs": [
    {
     "data": {
      "text/plain": [
       "array([ 0.4807    ,  1.47498571,  2.46927143,  3.46355714,  4.45784286,\n",
       "        5.45212857,  6.44641429,  7.4407    ,  8.43498571,  9.42927143,\n",
       "       10.42355714, 11.41784286, 12.41212857, 13.40641429, 14.4007    ,\n",
       "       15.39498571, 16.38927143, 17.38355714, 18.37784286, 19.37212857,\n",
       "       20.36641429, 21.3607    , 22.35498571, 23.34927143, 24.34355714,\n",
       "       25.33784286, 26.33212857, 27.32641429, 28.3207    , 29.31498571,\n",
       "       30.30927143, 31.30355714, 32.29784286, 33.29212857, 34.28641429,\n",
       "       35.2807    , 36.27498571, 37.26927143, 38.26355714, 39.25784286,\n",
       "       40.25212857, 41.24641429, 42.2407    , 43.23498571, 44.22927143,\n",
       "       45.22355714, 46.21784286, 47.21212857, 48.20641429, 49.2007    ])"
      ]
     },
     "execution_count": 38,
     "metadata": {},
     "output_type": "execute_result"
    }
   ],
   "source": [
    "w1 = 0.9744\n",
    "b = 0.4807\n",
    "y1 = w1*x1 + b\n",
    "y1"
   ]
  },
  {
   "cell_type": "code",
   "execution_count": 39,
   "metadata": {},
   "outputs": [
    {
     "data": {
      "text/plain": [
       "<matplotlib.collections.PathCollection at 0x19e4c86a668>"
      ]
     },
     "execution_count": 39,
     "metadata": {},
     "output_type": "execute_result"
    },
    {
     "data": {
      "image/png": "[encoded data removed]",
      "text/plain": [
       "<Figure size 432x288 with 1 Axes>"
      ]
     },
     "metadata": {
      "needs_background": "light"
     },
     "output_type": "display_data"
    }
   ],
   "source": [
    "plt.plot(x1,y1, 'red')\n",
    "plt.scatter(X.numpy(), y.numpy())"
   ]
  },
  {
   "cell_type": "code",
   "execution_count": 40,
   "metadata": {},
   "outputs": [],
   "source": [
    "criterion = nn.MSELoss()"
   ]
  },
  {
   "cell_type": "code",
   "execution_count": 41,
   "metadata": {},
   "outputs": [],
   "source": [
    "optimizer = torch.optim.SGD(model.parameters(), lr=0.001)"
   ]
  },
  {
   "cell_type": "code",
   "execution_count": 42,
   "metadata": {},
   "outputs": [
    {
     "name": "stderr",
     "output_type": "stream",
     "text": [
      "100%|████████████████████████████████████████████████████████████████████████████████| 50/50 [00:00<00:00, 3226.09it/s]"
     ]
    },
    {
     "name": "stdout",
     "output_type": "stream",
     "text": [
      "epoch 1 loss: 959.9545288085938 weight: 0.9744870662689209 bias: 0.4807196855545044\n",
      "epoch 2 loss: 509.2782287597656 weight: 2.763096332550049 bias: 0.5354993939399719\n",
      "epoch 3 loss: 276.6085510253906 weight: 1.4778695106506348 bias: 0.4989504814147949\n",
      "epoch 4 loss: 156.4884033203125 weight: 2.4012413024902344 bias: 0.5280212163925171\n",
      "epoch 5 loss: 94.47319793701172 weight: 1.7377009391784668 bias: 0.5099418759346008\n",
      "epoch 6 loss: 62.45573425292969 weight: 2.214381456375122 bias: 0.5257392525672913\n",
      "epoch 7 loss: 45.9249267578125 weight: 1.8717957735061646 bias: 0.5171943306922913\n",
      "epoch 8 loss: 37.38935852050781 weight: 2.1178653240203857 bias: 0.5261383652687073\n",
      "epoch 9 loss: 32.98150634765625 weight: 1.9409774541854858 bias: 0.5225149393081665\n",
      "epoch 10 loss: 30.70461082458496 weight: 2.067991018295288 bias: 0.5279200673103333\n",
      "epoch 11 loss: 29.527833938598633 weight: 1.9766464233398438 bias: 0.5268366932868958\n",
      "epoch 12 loss: 28.91901397705078 weight: 2.0421957969665527 bias: 0.5304140448570251\n",
      "epoch 13 loss: 28.60343360900879 weight: 1.9950145483016968 bias: 0.5306412577629089\n",
      "epoch 14 loss: 28.439228057861328 weight: 2.028831958770752 bias: 0.533274233341217\n",
      "epoch 15 loss: 28.353178024291992 weight: 2.004450559616089 bias: 0.5341772437095642\n",
      "epoch 16 loss: 28.307476043701172 weight: 2.021885871887207 bias: 0.5363219380378723\n",
      "epoch 17 loss: 28.28260040283203 weight: 2.009275436401367 bias: 0.5375730991363525\n",
      "epoch 18 loss: 28.268489837646484 weight: 2.0182530879974365 bias: 0.5394648909568787\n",
      "epoch 19 loss: 28.25992774963379 weight: 2.0117197036743164 bias: 0.5408950448036194\n",
      "epoch 20 loss: 28.254236221313477 weight: 2.016331434249878 bias: 0.5426555275917053\n",
      "epoch 21 loss: 28.25002098083496 weight: 2.012934923171997 bias: 0.5441772937774658\n",
      "epoch 22 loss: 28.24658203125 weight: 2.0152926445007324 bias: 0.5458692312240601\n",
      "epoch 23 loss: 28.243539810180664 weight: 2.0135159492492676 bias: 0.5474375486373901\n",
      "epoch 24 loss: 28.24069595336914 weight: 2.014709711074829 bias: 0.5490933656692505\n",
      "epoch 25 loss: 28.237960815429688 weight: 2.0137693881988525 bias: 0.5506849884986877\n",
      "epoch 26 loss: 28.23528480529785 weight: 2.0143625736236572 bias: 0.5523213744163513\n",
      "epoch 27 loss: 28.23264503479004 weight: 2.0138535499572754 bias: 0.5539242625236511\n",
      "epoch 28 loss: 28.230012893676758 weight: 2.014136791229248 bias: 0.5555498600006104\n",
      "epoch 29 loss: 28.227401733398438 weight: 2.0138509273529053 bias: 0.5571577548980713\n",
      "epoch 30 loss: 28.22478675842285 weight: 2.0139737129211426 bias: 0.5587770342826843\n",
      "epoch 31 loss: 28.222179412841797 weight: 2.013803243637085 bias: 0.5603868365287781\n",
      "epoch 32 loss: 28.219581604003906 weight: 2.013843297958374 bias: 0.5620021224021912\n",
      "epoch 33 loss: 28.216970443725586 weight: 2.0137321949005127 bias: 0.5636121034622192\n",
      "epoch 34 loss: 28.214380264282227 weight: 2.0137298107147217 bias: 0.5652245283126831\n",
      "epoch 35 loss: 28.21178436279297 weight: 2.0136492252349854 bias: 0.5668338537216187\n",
      "epoch 36 loss: 28.209190368652344 weight: 2.013624906539917 bias: 0.5684440732002258\n",
      "epoch 37 loss: 28.206594467163086 weight: 2.0135602951049805 bias: 0.5700523257255554\n",
      "epoch 38 loss: 28.204015731811523 weight: 2.0135245323181152 bias: 0.5716606378555298\n",
      "epoch 39 loss: 28.201427459716797 weight: 2.0134682655334473 bias: 0.5732675790786743\n",
      "epoch 40 loss: 28.19884490966797 weight: 2.0134267807006836 bias: 0.5748741626739502\n",
      "epoch 41 loss: 28.196266174316406 weight: 2.0133743286132812 bias: 0.5764796733856201\n",
      "epoch 42 loss: 28.193693161010742 weight: 2.0133302211761475 bias: 0.5780846476554871\n",
      "epoch 43 loss: 28.191120147705078 weight: 2.013279914855957 bias: 0.5796886086463928\n",
      "epoch 44 loss: 28.18855094909668 weight: 2.0132341384887695 bias: 0.5812919735908508\n",
      "epoch 45 loss: 28.18597412109375 weight: 2.0131852626800537 bias: 0.5828944444656372\n",
      "epoch 46 loss: 28.183412551879883 weight: 2.01313853263855 bias: 0.5844962000846863\n",
      "epoch 47 loss: 28.18084144592285 weight: 2.0130903720855713 bias: 0.5860971212387085\n",
      "epoch 48 loss: 28.17828369140625 weight: 2.013043165206909 bias: 0.5876973271369934\n",
      "epoch 49 loss: 28.17572021484375 weight: 2.012995481491089 bias: 0.5892967581748962\n",
      "epoch 50 loss: 28.17316436767578 weight: 2.0129482746124268 bias: 0.590895414352417\n"
     ]
    },
    {
     "name": "stderr",
     "output_type": "stream",
     "text": [
      "\n"
     ]
    }
   ],
   "source": [
    "epochs = 50\n",
    "losses = []\n",
    "\n",
    "for i in trange(epochs):\n",
    "    i += 1\n",
    "    y_pred = model.forward(X)\n",
    "    loss = criterion(y_pred, y)\n",
    "    losses.append(loss)\n",
    "    print(f'epoch {i} loss: {loss.item()} weight: {model.linear.weight.item()} bias: {model.linear.bias.item()}')\n",
    "    optimizer.zero_grad()\n",
    "    loss.backward()\n",
    "    optimizer.step()\n",
    "    "
   ]
  },
  {
   "cell_type": "code",
   "execution_count": 43,
   "metadata": {},
   "outputs": [
    {
     "data": {
      "text/plain": [
       "Text(0.5, 0, 'Epoch')"
      ]
     },
     "execution_count": 43,
     "metadata": {},
     "output_type": "execute_result"
    },
    {
     "data": {
      "image/png": "[encoded data removed]",
      "text/plain": [
       "<Figure size 432x288 with 1 Axes>"
      ]
     },
     "metadata": {
      "needs_background": "light"
     },
     "output_type": "display_data"
    }
   ],
   "source": [
    "plt.plot(X.numpy(), losses)\n",
    "plt.ylabel('MSE LOSS')\n",
    "plt.xlabel('Epoch')"
   ]
  },
  {
   "cell_type": "code",
   "execution_count": 45,
   "metadata": {},
   "outputs": [
    {
     "data": {
      "text/plain": [
       "<matplotlib.legend.Legend at 0x19e4c9d1828>"
      ]
     },
     "execution_count": 45,
     "metadata": {},
     "output_type": "execute_result"
    },
    {
     "data": {
      "image/png": "[encoded data removed]",
      "text/plain": [
       "<Figure size 432x288 with 1 Axes>"
      ]
     },
     "metadata": {
      "needs_background": "light"
     },
     "output_type": "display_data"
    }
   ],
   "source": [
    "x = np.linspace(0.0, 50.0, 50)\n",
    "current_weight = model.linear.weight.item()\n",
    "current_bias = model.linear.bias.item()\n",
    "predicted_y = current_weight*x + current_bias\n",
    "plt.scatter(X.numpy(), y.numpy(), label=\"Original values\") # Original values\n",
    "plt.plot(x, predicted_y, 'r', label=\"Fit\") # Linear fit to dataset\n",
    "plt.legend()"
   ]
  },
  {
   "cell_type": "code",
   "execution_count": null,
   "metadata": {},
   "outputs": [],
   "source": []
  }
 ],
 "metadata": {
  "kernelspec": {
   "display_name": "Python 3",
   "language": "python",
   "name": "python3"
  },
  "language_info": {
   "codemirror_mode": {
    "name": "ipython",
    "version": 3
   },
   "file_extension": ".py",
   "mimetype": "text/x-python",
   "name": "python",
   "nbconvert_exporter": "python",
   "pygments_lexer": "ipython3",
   "version": "3.7.3"
  }
 },
 "nbformat": 4,
 "nbformat_minor": 4
}
