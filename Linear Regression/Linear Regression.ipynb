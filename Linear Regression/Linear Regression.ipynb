{
 "cells": [
  {
   "cell_type": "markdown",
   "metadata": {},
   "source": [
    "# Linear Regression Pytorch Demonstration\n",
    "Robbie Plata"
   ]
  },
  {
   "cell_type": "code",
   "execution_count": 1,
   "metadata": {},
   "outputs": [],
   "source": [
    "import matplotlib.pyplot as plt\n",
    "import torch\n",
    "import numpy as np\n",
    "%matplotlib inline\n",
    "from tqdm import trange\n",
    "import torch.nn as nn"
   ]
  },
  {
   "cell_type": "markdown",
   "metadata": {},
   "source": [
    "#### 50x1 linear float tensor"
   ]
  },
  {
   "cell_type": "code",
   "execution_count": 2,
   "metadata": {},
   "outputs": [],
   "source": [
    "X = torch.linspace(1,50,50).reshape(-1,1)"
   ]
  },
  {
   "cell_type": "markdown",
   "metadata": {},
   "source": [
    "#### 50x1 error tensor"
   ]
  },
  {
   "cell_type": "code",
   "execution_count": 3,
   "metadata": {},
   "outputs": [],
   "source": [
    "error = torch.randint(-8,9,(50,1), dtype=torch.float)"
   ]
  },
  {
   "cell_type": "markdown",
   "metadata": {},
   "source": [
    "$f(x) = 2(x) + 1 + error$"
   ]
  },
  {
   "cell_type": "code",
   "execution_count": 4,
   "metadata": {},
   "outputs": [],
   "source": [
    "y = 2*X + 1 + error"
   ]
  },
  {
   "cell_type": "code",
   "execution_count": 5,
   "metadata": {},
   "outputs": [
    {
     "data": {
      "text/plain": [
       "<matplotlib.collections.PathCollection at 0x23d2b5d1dd8>"
      ]
     },
     "execution_count": 5,
     "metadata": {},
     "output_type": "execute_result"
    },
    {
     "data": {
      "image/png": "[encoded data removed]",
      "text/plain": [
       "<Figure size 432x288 with 1 Axes>"
      ]
     },
     "metadata": {
      "needs_background": "light"
     },
     "output_type": "display_data"
    }
   ],
   "source": [
    "plt.scatter(X.numpy(), y.numpy())"
   ]
  },
  {
   "cell_type": "code",
   "execution_count": 6,
   "metadata": {
    "scrolled": true
   },
   "outputs": [
    {
     "data": {
      "text/plain": [
       "<torch._C.Generator at 0x23d27179930>"
      ]
     },
     "execution_count": 6,
     "metadata": {},
     "output_type": "execute_result"
    }
   ],
   "source": [
    "torch.manual_seed(51)"
   ]
  },
  {
   "cell_type": "markdown",
   "metadata": {},
   "source": [
    "### Linear layer Test"
   ]
  },
  {
   "cell_type": "code",
   "execution_count": 7,
   "metadata": {},
   "outputs": [
    {
     "name": "stdout",
     "output_type": "stream",
     "text": [
      "Parameter containing:\n",
      "tensor([[0.9745]], requires_grad=True)\n",
      "Parameter containing:\n",
      "tensor([0.4807], requires_grad=True)\n"
     ]
    }
   ],
   "source": [
    "model = nn.Linear(1,1)\n",
    "print(model.weight)\n",
    "print(model.bias)"
   ]
  },
  {
   "cell_type": "markdown",
   "metadata": {},
   "source": [
    "### Single Layer Linear Regression Model with no actuation"
   ]
  },
  {
   "cell_type": "code",
   "execution_count": 8,
   "metadata": {},
   "outputs": [],
   "source": [
    "class Model(nn.Module):\n",
    "    \n",
    "    def __init__(self, in_features, out_features):\n",
    "        super().__init__() # Inherit\n",
    "        self.linear = nn.Linear(in_features, out_features)\n",
    "    \n",
    "    def forward(self, x):\n",
    "        y_pred = self.linear(x)\n",
    "        return y_pred"
   ]
  },
  {
   "cell_type": "markdown",
   "metadata": {},
   "source": [
    "### Single Neuron Model tracking gradient"
   ]
  },
  {
   "cell_type": "code",
   "execution_count": 9,
   "metadata": {},
   "outputs": [
    {
     "name": "stdout",
     "output_type": "stream",
     "text": [
      "Parameter containing:\n",
      "tensor([[0.9745]], requires_grad=True)\n",
      "Parameter containing:\n",
      "tensor([0.4807], requires_grad=True)\n"
     ]
    }
   ],
   "source": [
    "torch.manual_seed(51)\n",
    "model = Model(1,1)\n",
    "print(model.linear.weight)\n",
    "print(model.linear.bias)"
   ]
  },
  {
   "cell_type": "markdown",
   "metadata": {},
   "source": [
    "### Weight and bias by given manual seed"
   ]
  },
  {
   "cell_type": "code",
   "execution_count": 10,
   "metadata": {
    "scrolled": false
   },
   "outputs": [
    {
     "name": "stdout",
     "output_type": "stream",
     "text": [
      "linear.weight \t 0.9744870662689209\n",
      "linear.bias \t 0.4807196855545044\n"
     ]
    }
   ],
   "source": [
    "for name, param in model.named_parameters():\n",
    "    print(name, '\\t', param.item())"
   ]
  },
  {
   "cell_type": "markdown",
   "metadata": {},
   "source": [
    "### Forward Propogation\n",
    "$\\sum\\limits_{i=1}^n z(x) = (w_{i}x_{i}) + b_{i}$"
   ]
  },
  {
   "cell_type": "code",
   "execution_count": 11,
   "metadata": {},
   "outputs": [
    {
     "name": "stdout",
     "output_type": "stream",
     "text": [
      "tensor([2.4297], grad_fn=<AddBackward0>)\n"
     ]
    }
   ],
   "source": [
    "x = torch.tensor([2.0])\n",
    "print(model.forward(x))"
   ]
  },
  {
   "cell_type": "code",
   "execution_count": 12,
   "metadata": {},
   "outputs": [],
   "source": [
    "x1 = np.linspace(0.0, 50.0, 50)"
   ]
  },
  {
   "cell_type": "markdown",
   "metadata": {},
   "source": [
    "### Applying and plotting an arbitrary weight and bias to a linspace tensor"
   ]
  },
  {
   "cell_type": "code",
   "execution_count": 13,
   "metadata": {},
   "outputs": [
    {
     "data": {
      "text/plain": [
       "array([ 0.4807    ,  1.47498571,  2.46927143,  3.46355714,  4.45784286,\n",
       "        5.45212857,  6.44641429,  7.4407    ,  8.43498571,  9.42927143,\n",
       "       10.42355714, 11.41784286, 12.41212857, 13.40641429, 14.4007    ,\n",
       "       15.39498571, 16.38927143, 17.38355714, 18.37784286, 19.37212857,\n",
       "       20.36641429, 21.3607    , 22.35498571, 23.34927143, 24.34355714,\n",
       "       25.33784286, 26.33212857, 27.32641429, 28.3207    , 29.31498571,\n",
       "       30.30927143, 31.30355714, 32.29784286, 33.29212857, 34.28641429,\n",
       "       35.2807    , 36.27498571, 37.26927143, 38.26355714, 39.25784286,\n",
       "       40.25212857, 41.24641429, 42.2407    , 43.23498571, 44.22927143,\n",
       "       45.22355714, 46.21784286, 47.21212857, 48.20641429, 49.2007    ])"
      ]
     },
     "execution_count": 13,
     "metadata": {},
     "output_type": "execute_result"
    }
   ],
   "source": [
    "w1 = 0.9744\n",
    "b = 0.4807\n",
    "y1 = w1*x1 + b\n",
    "y1"
   ]
  },
  {
   "cell_type": "code",
   "execution_count": 14,
   "metadata": {},
   "outputs": [
    {
     "data": {
      "text/plain": [
       "<matplotlib.collections.PathCollection at 0x23d2b64e710>"
      ]
     },
     "execution_count": 14,
     "metadata": {},
     "output_type": "execute_result"
    },
    {
     "data": {
      "image/png": "[encoded data removed]",
      "text/plain": [
       "<Figure size 432x288 with 1 Axes>"
      ]
     },
     "metadata": {
      "needs_background": "light"
     },
     "output_type": "display_data"
    }
   ],
   "source": [
    "plt.plot(x1,y1, 'red')\n",
    "plt.scatter(X.numpy(), y.numpy())"
   ]
  },
  {
   "cell_type": "markdown",
   "metadata": {},
   "source": [
    "### Mean squared error \n",
    "$MSE = \\frac{1}{n}\\sum\\limits_{i=1}^n (Y_{i} - \\hat{Y}_{i})^2$\n",
    "\n",
    "(The average of the squared differences between the predicted and actual values)"
   ]
  },
  {
   "cell_type": "code",
   "execution_count": 15,
   "metadata": {},
   "outputs": [],
   "source": [
    "criterion = nn.MSELoss()"
   ]
  },
  {
   "cell_type": "markdown",
   "metadata": {},
   "source": [
    "### Stochastic gradient descent with step size of 0.001\n",
    "Uses the cost gradient of 1 example at each iteration.\n",
    "Calculates the error for each example in the training dataset but only updates the model have all training examples are evaluated. Tiny step size."
   ]
  },
  {
   "cell_type": "code",
   "execution_count": 16,
   "metadata": {},
   "outputs": [],
   "source": [
    "optimizer = torch.optim.SGD(model.parameters(), lr=0.005)"
   ]
  },
  {
   "cell_type": "markdown",
   "metadata": {},
   "source": [
    "### Training\n",
    "1. 50 Epochs/Iterations (total passes through the dataset). \n",
    "2. Feed to output neuron.\n",
    "3. Calculate loss with mean squared error.\n",
    "4. Track Loss.\n",
    "5. Reset gradient.\n",
    "6. Minimize the cost function (backpropogate) by\n",
    "\n",
    "- Computing the rate of change of C (cost) with respect to the output activations starting at the last layer L and finishing with with L-1 where L=2 (the last back propogation).\n",
    "\n",
    "$δ^L=\\nabla_{a} C ⊙ \\sigma' (z^L)$\n",
    "OR\n",
    "$δ^L=(a^L-y) ⊙ \\sigma' (z^L)$\n",
    "\n",
    "Move the error backwards through the activation functions in layer \n",
    "${l}$. Written out in terms of the error in the next layer (moving backwards).\n",
    "\n",
    "$δ^l = (w^l+1)^T δ^{l+1} ⊙ \\sigma'(z^l)$\n",
    "\n",
    "- ${T}$ - transpose\n",
    "- ${l}$ - layer\n",
    "- ${⊙}$ - Hadamard product\n",
    "- ${𝜎}'$ - activation prime\n",
    "- ${z}'$ - (weight)(input) + bias\n",
    "\n",
    "\n",
    "The gradient of the cost function is given by \n",
    "\n",
    "### $\\frac {\\partial C} {\\partial w^{l}_{jk}} = a^{l-1}_{k} δ^l_{j}$\n",
    "\n",
    "### $\\frac {\\partial C} {\\partial b^{l}_{j}} = δ^l_{j}$\n",
    "\n",
    "7. Perform a parameter update (step) based on the gradient stored in paramater.grad."
   ]
  },
  {
   "cell_type": "code",
   "execution_count": 17,
   "metadata": {},
   "outputs": [
    {
     "name": "stderr",
     "output_type": "stream",
     "text": [
      "\r",
      "  0%|                                                                                           | 0/50 [00:00<?, ?it/s]"
     ]
    },
    {
     "name": "stdout",
     "output_type": "stream",
     "text": [
      "epoch 1 loss: 937.1343383789062 weight: 0.9744870662689209 bias: 0.4807196855545044\n",
      "epoch 2 loss: 52573.25 weight: 9.820732116699219 bias: 0.7426182627677917\n",
      "epoch 3 loss: 3029251.5 weight: -57.344818115234375 bias: -1.253894567489624\n",
      "epoch 4 loss: 174626480.0 weight: 452.6150207519531 bias: 13.896771430969238\n",
      "epoch 5 loss: 10066727936.0 weight: -3419.293701171875 bias: -101.14380645751953\n",
      "epoch 6 loss: 580318789632.0 weight: 25978.466796875 bias: 772.3027954101562\n",
      "epoch 7 loss: 33453760315392.0 weight: -197226.265625 bias: -5859.41357421875\n",
      "epoch 8 loss: 1928516014702592.0 weight: 1497472.625 bias: 44492.39453125\n",
      "epoch 9 loss: 1.1117352764991078e+17 weight: -11369656.0 bias: -337807.5\n",
      "epoch 10 loss: 6.408844371097027e+18 weight: 86324992.0 bias: 2564833.0\n",
      "epoch 11 loss: 3.694519861907806e+20 weight: -655429056.0 bias: -19473688.0\n",
      "epoch 12 loss: 2.1297878422205638e+22 weight: 4976395264.0 bias: 147855456.0\n",
      "epoch 13 loss: 1.2277635481935885e+24 weight: -37783662592.0 bias: -1122603648.0\n",
      "epoch 14 loss: 7.0777122521423424e+25 weight: 286875287552.0 bias: 8523457024.0\n",
      "epoch 15 loss: 4.080103685698106e+27 weight: -2178122383360.0 bias: -64714981376.0\n",
      "epoch 16 loss: 2.352066051808335e+29 weight: 16537560809472.0 bias: 491353407488.0\n"
     ]
    },
    {
     "name": "stderr",
     "output_type": "stream",
     "text": [
      "\r",
      "100%|████████████████████████████████████████████████████████████████████████████████| 50/50 [00:00<00:00, 1098.91it/s]"
     ]
    },
    {
     "name": "stdout",
     "output_type": "stream",
     "text": [
      "epoch 17 loss: 1.3559006134565318e+31 weight: -125562689421312.0 bias: -3730637848576.0\n",
      "epoch 18 loss: 7.816387451398971e+32 weight: 953344227016704.0 bias: 28325152030720.0\n",
      "epoch 19 loss: 4.505928431393284e+34 weight: -7238337911848960.0 bias: -215060840448000.0\n",
      "epoch 20 loss: 2.5975415772770646e+36 weight: 5.495762413053542e+16 bias: 1632865766866944.0\n",
      "epoch 21 loss: 1.4974104461027317e+38 weight: -4.172699541407007e+17 bias: -1.2397658249363456e+16\n",
      "epoch 22 loss: inf weight: 3.168153969872601e+18 bias: 9.413015252657766e+16\n",
      "epoch 23 loss: inf weight: -2.405445128746015e+19 bias: -7.146903920747479e+17\n",
      "epoch 24 loss: inf weight: 1.8263523215275563e+20 bias: 5.426341121481507e+18\n",
      "epoch 25 loss: inf weight: -1.3866718360662578e+21 bias: -4.119989696141774e+19\n",
      "epoch 26 loss: inf weight: 1.052841050017541e+22 bias: 3.1281341545520195e+20\n",
      "epoch 27 loss: inf weight: -7.99377584787202e+22 bias: -2.3750593948367045e+21\n",
      "epoch 28 loss: inf weight: 6.06933620591687e+23 bias: 1.803281823195793e+22\n",
      "epoch 29 loss: inf weight: -4.6081897839646676e+24 bias: -1.3691558058915407e+23\n",
      "epoch 30 loss: inf weight: 3.4988027106639257e+25 bias: 1.039541906807117e+24\n",
      "epoch 31 loss: inf weight: -2.6564923711573797e+26 bias: -7.892798586985317e+24\n",
      "epoch 32 loss: inf weight: 2.0169616843571091e+27 bias: 5.992667387029117e+25\n",
      "epoch 33 loss: inf weight: -1.5313935593706795e+28 bias: -4.549977970152015e+26\n",
      "epoch 34 loss: inf weight: 1.1627221859462326e+29 bias: 3.4546052895407535e+27\n",
      "epoch 35 loss: inf weight: -8.828055371682045e+29 bias: -2.622935987557266e+28\n",
      "epoch 36 loss: inf weight: 6.70276891873426e+30 bias: 1.9914833365904067e+29\n",
      "epoch 37 loss: inf weight: -5.08912846374302e+31 bias: -1.512049461773162e+30\n",
      "epoch 38 loss: inf weight: 3.863959033245721e+32 bias: 1.1480347648248615e+31\n",
      "epoch 39 loss: inf weight: -2.933740248710714e+33 bias: -8.71654085042737e+31\n",
      "epoch 40 loss: inf weight: 2.227464631591426e+34 bias: 6.618098631571902e+32\n",
      "epoch 41 loss: inf weight: -1.6912194103803643e+35 bias: -5.0248422568457433e+33\n",
      "epoch 42 loss: inf weight: 1.2840711915064483e+36 bias: 3.815149471479775e+34\n",
      "epoch 43 loss: inf weight: -inf bias: -2.8966816470766784e+35\n",
      "epoch 44 loss: nan weight: nan bias: inf\n",
      "epoch 45 loss: nan weight: nan bias: nan\n",
      "epoch 46 loss: nan weight: nan bias: nan\n",
      "epoch 47 loss: nan weight: nan bias: nan\n",
      "epoch 48 loss: nan weight: nan bias: nan\n",
      "epoch 49 loss: nan weight: nan bias: nan\n",
      "epoch 50 loss: nan weight: nan bias: nan\n"
     ]
    },
    {
     "name": "stderr",
     "output_type": "stream",
     "text": [
      "\n"
     ]
    }
   ],
   "source": [
    "epochs = 50\n",
    "losses = []\n",
    "\n",
    "for i in trange(epochs):\n",
    "    i += 1\n",
    "    y_pred = model.forward(X)\n",
    "    loss = criterion(y_pred, y)\n",
    "    losses.append(loss)\n",
    "    print(f'epoch {i} loss: {loss.item()} weight: {model.linear.weight.item()} bias: {model.linear.bias.item()}')\n",
    "    optimizer.zero_grad()\n",
    "    loss.backward()\n",
    "    optimizer.step()\n",
    "    "
   ]
  },
  {
   "cell_type": "markdown",
   "metadata": {},
   "source": [
    "### Convergence around the 10th epoch."
   ]
  },
  {
   "cell_type": "code",
   "execution_count": 18,
   "metadata": {},
   "outputs": [
    {
     "data": {
      "text/plain": [
       "Text(0.5, 0, 'Epoch')"
      ]
     },
     "execution_count": 18,
     "metadata": {},
     "output_type": "execute_result"
    },
    {
     "data": {
      "image/png": "[encoded data removed]",
      "text/plain": [
       "<Figure size 432x288 with 1 Axes>"
      ]
     },
     "metadata": {
      "needs_background": "light"
     },
     "output_type": "display_data"
    }
   ],
   "source": [
    "plt.plot(X.numpy(), losses)\n",
    "plt.ylabel('MSE LOSS')\n",
    "plt.xlabel('Epoch')"
   ]
  },
  {
   "cell_type": "markdown",
   "metadata": {},
   "source": [
    "### Plot of prediction\n",
    "predicted_y (current weight + bias) fits to the 1x50 (2x + 1 + error) tensor.\n"
   ]
  },
  {
   "cell_type": "code",
   "execution_count": 19,
   "metadata": {},
   "outputs": [
    {
     "data": {
      "text/plain": [
       "<matplotlib.legend.Legend at 0x23d2b79d668>"
      ]
     },
     "execution_count": 19,
     "metadata": {},
     "output_type": "execute_result"
    },
    {
     "data": {
      "image/png": "[encoded data removed]",
      "text/plain": [
       "<Figure size 432x288 with 1 Axes>"
      ]
     },
     "metadata": {
      "needs_background": "light"
     },
     "output_type": "display_data"
    }
   ],
   "source": [
    "x = np.linspace(0.0, 50.0, 50)\n",
    "current_weight = model.linear.weight.item()\n",
    "current_bias = model.linear.bias.item()\n",
    "predicted_y = current_weight*x + current_bias\n",
    "plt.scatter(X.numpy(), y.numpy(), label=\"Original values\") # Original values\n",
    "plt.plot(x, predicted_y, 'r', label=\"Fit\") # Linear fit to dataset\n",
    "plt.legend()"
   ]
  }
 ],
 "metadata": {
  "kernelspec": {
   "display_name": "Python 3",
   "language": "python",
   "name": "python3"
  },
  "language_info": {
   "codemirror_mode": {
    "name": "ipython",
    "version": 3
   },
   "file_extension": ".py",
   "mimetype": "text/x-python",
   "name": "python",
   "nbconvert_exporter": "python",
   "pygments_lexer": "ipython3",
   "version": "3.7.3"
  }
 },
 "nbformat": 4,
 "nbformat_minor": 4
}
