{
 "cells": [
  {
   "cell_type": "markdown",
   "metadata": {},
   "source": [
    "# Linear Regression Pytorch Demonstration\n",
    "Robbie Plata"
   ]
  },
  {
   "cell_type": "code",
   "execution_count": 1,
   "metadata": {},
   "outputs": [],
   "source": [
    "import matplotlib.pyplot as plt\n",
    "import torch\n",
    "import numpy as np\n",
    "%matplotlib inline\n",
    "from tqdm import trange\n",
    "import torch.nn as nn"
   ]
  },
  {
   "cell_type": "markdown",
   "metadata": {},
   "source": [
    "#### 50x1 linear float tensor"
   ]
  },
  {
   "cell_type": "code",
   "execution_count": 2,
   "metadata": {},
   "outputs": [],
   "source": [
    "X = torch.linspace(1,50,50).reshape(-1,1)"
   ]
  },
  {
   "cell_type": "markdown",
   "metadata": {},
   "source": [
    "#### 50x1 error tensor"
   ]
  },
  {
   "cell_type": "code",
   "execution_count": 3,
   "metadata": {},
   "outputs": [],
   "source": [
    "error = torch.randint(-8,9,(50,1), dtype=torch.float)"
   ]
  },
  {
   "cell_type": "markdown",
   "metadata": {},
   "source": [
    "$f(x) = 2(x) + 1 + error$"
   ]
  },
  {
   "cell_type": "code",
   "execution_count": 4,
   "metadata": {},
   "outputs": [],
   "source": [
    "y = 2*X + 1 + error"
   ]
  },
  {
   "cell_type": "code",
   "execution_count": 5,
   "metadata": {},
   "outputs": [
    {
     "data": {
      "text/plain": [
       "<matplotlib.collections.PathCollection at 0x2b239a13da0>"
      ]
     },
     "execution_count": 5,
     "metadata": {},
     "output_type": "execute_result"
    },
    {
     "data": {
      "image/png": "[encoded data removed]",
      "text/plain": [
       "<Figure size 432x288 with 1 Axes>"
      ]
     },
     "metadata": {
      "needs_background": "light"
     },
     "output_type": "display_data"
    }
   ],
   "source": [
    "plt.scatter(X.numpy(), y.numpy())"
   ]
  },
  {
   "cell_type": "code",
   "execution_count": 6,
   "metadata": {
    "scrolled": true
   },
   "outputs": [
    {
     "data": {
      "text/plain": [
       "<torch._C.Generator at 0x2b2355e8930>"
      ]
     },
     "execution_count": 6,
     "metadata": {},
     "output_type": "execute_result"
    }
   ],
   "source": [
    "torch.manual_seed(51)"
   ]
  },
  {
   "cell_type": "markdown",
   "metadata": {},
   "source": [
    "### Linear layer Test"
   ]
  },
  {
   "cell_type": "code",
   "execution_count": 7,
   "metadata": {},
   "outputs": [
    {
     "name": "stdout",
     "output_type": "stream",
     "text": [
      "Parameter containing:\n",
      "tensor([[0.9745]], requires_grad=True)\n",
      "Parameter containing:\n",
      "tensor([0.4807], requires_grad=True)\n"
     ]
    }
   ],
   "source": [
    "model = nn.Linear(1,1)\n",
    "print(model.weight)\n",
    "print(model.bias)"
   ]
  },
  {
   "cell_type": "markdown",
   "metadata": {},
   "source": [
    "### Single Layer Linear Regression Model with no actuation"
   ]
  },
  {
   "cell_type": "code",
   "execution_count": 8,
   "metadata": {},
   "outputs": [],
   "source": [
    "class Model(nn.Module):\n",
    "    \n",
    "    def __init__(self, in_features, out_features):\n",
    "        super().__init__() # Inherit\n",
    "        self.linear = nn.Linear(in_features, out_features)\n",
    "    \n",
    "    def forward(self, x):\n",
    "        y_pred = self.linear(x)\n",
    "        return y_pred"
   ]
  },
  {
   "cell_type": "markdown",
   "metadata": {},
   "source": [
    "### Single Neuron Model tracking gradient"
   ]
  },
  {
   "cell_type": "code",
   "execution_count": 9,
   "metadata": {},
   "outputs": [
    {
     "name": "stdout",
     "output_type": "stream",
     "text": [
      "Parameter containing:\n",
      "tensor([[0.9745]], requires_grad=True)\n",
      "Parameter containing:\n",
      "tensor([0.4807], requires_grad=True)\n"
     ]
    }
   ],
   "source": [
    "torch.manual_seed(51)\n",
    "model = Model(1,1)\n",
    "print(model.linear.weight)\n",
    "print(model.linear.bias)"
   ]
  },
  {
   "cell_type": "markdown",
   "metadata": {},
   "source": [
    "### Weight and bias by given manual seed"
   ]
  },
  {
   "cell_type": "code",
   "execution_count": 10,
   "metadata": {
    "scrolled": false
   },
   "outputs": [
    {
     "name": "stdout",
     "output_type": "stream",
     "text": [
      "linear.weight \t 0.9744870662689209\n",
      "linear.bias \t 0.4807196855545044\n"
     ]
    }
   ],
   "source": [
    "for name, param in model.named_parameters():\n",
    "    print(name, '\\t', param.item())"
   ]
  },
  {
   "cell_type": "markdown",
   "metadata": {},
   "source": [
    "### Forward Propogation\n",
    "$\\sum\\limits_{i=1}^n z(x) = (w_{i}x_{i}) + b_{i}$"
   ]
  },
  {
   "cell_type": "code",
   "execution_count": 11,
   "metadata": {},
   "outputs": [
    {
     "name": "stdout",
     "output_type": "stream",
     "text": [
      "tensor([2.4297], grad_fn=<AddBackward0>)\n"
     ]
    }
   ],
   "source": [
    "x = torch.tensor([2.0])\n",
    "print(model.forward(x))"
   ]
  },
  {
   "cell_type": "code",
   "execution_count": 12,
   "metadata": {},
   "outputs": [],
   "source": [
    "x1 = np.linspace(0.0, 50.0, 50)"
   ]
  },
  {
   "cell_type": "markdown",
   "metadata": {},
   "source": [
    "### Applying and plotting an arbitrary weight and bias to a linspace tensor"
   ]
  },
  {
   "cell_type": "code",
   "execution_count": 13,
   "metadata": {},
   "outputs": [
    {
     "data": {
      "text/plain": [
       "array([ 0.4807    ,  1.47498571,  2.46927143,  3.46355714,  4.45784286,\n",
       "        5.45212857,  6.44641429,  7.4407    ,  8.43498571,  9.42927143,\n",
       "       10.42355714, 11.41784286, 12.41212857, 13.40641429, 14.4007    ,\n",
       "       15.39498571, 16.38927143, 17.38355714, 18.37784286, 19.37212857,\n",
       "       20.36641429, 21.3607    , 22.35498571, 23.34927143, 24.34355714,\n",
       "       25.33784286, 26.33212857, 27.32641429, 28.3207    , 29.31498571,\n",
       "       30.30927143, 31.30355714, 32.29784286, 33.29212857, 34.28641429,\n",
       "       35.2807    , 36.27498571, 37.26927143, 38.26355714, 39.25784286,\n",
       "       40.25212857, 41.24641429, 42.2407    , 43.23498571, 44.22927143,\n",
       "       45.22355714, 46.21784286, 47.21212857, 48.20641429, 49.2007    ])"
      ]
     },
     "execution_count": 13,
     "metadata": {},
     "output_type": "execute_result"
    }
   ],
   "source": [
    "w1 = 0.9744\n",
    "b = 0.4807\n",
    "y1 = w1*x1 + b\n",
    "y1"
   ]
  },
  {
   "cell_type": "code",
   "execution_count": 14,
   "metadata": {},
   "outputs": [
    {
     "data": {
      "text/plain": [
       "<matplotlib.collections.PathCollection at 0x2b239a901d0>"
      ]
     },
     "execution_count": 14,
     "metadata": {},
     "output_type": "execute_result"
    },
    {
     "data": {
      "image/png": "[encoded data removed]",
      "text/plain": [
       "<Figure size 432x288 with 1 Axes>"
      ]
     },
     "metadata": {
      "needs_background": "light"
     },
     "output_type": "display_data"
    }
   ],
   "source": [
    "plt.plot(x1,y1, 'red')\n",
    "plt.scatter(X.numpy(), y.numpy())"
   ]
  },
  {
   "cell_type": "markdown",
   "metadata": {},
   "source": [
    "### Mean squared error \n",
    "$MSE = \\frac{1}{n}\\sum\\limits_{i=1}^n (Y_{i} - \\hat{Y}_{i})^2$\n",
    "\n",
    "(The average of the squared differences between the predicted and actual values)"
   ]
  },
  {
   "cell_type": "code",
   "execution_count": 15,
   "metadata": {},
   "outputs": [],
   "source": [
    "criterion = nn.MSELoss()"
   ]
  },
  {
   "cell_type": "markdown",
   "metadata": {},
   "source": [
    "### Stochastic gradient descent with step size of 0.001\n",
    "Uses the cost gradient of 1 example at each iteration.\n",
    "Calculates the error for each example in the training dataset but only updates the model have all training examples are evaluated. Tiny step size."
   ]
  },
  {
   "cell_type": "code",
   "execution_count": 16,
   "metadata": {},
   "outputs": [],
   "source": [
    "optimizer = torch.optim.SGD(model.parameters(), lr=0.001)"
   ]
  },
  {
   "cell_type": "markdown",
   "metadata": {},
   "source": [
    "### Training\n",
    "1. 50 Epochs/Iterations (total passes through the dataset). \n",
    "2. Feed to output neuron.\n",
    "3. Calculate loss with mean squared error.\n",
    "4. Track Loss.\n",
    "5. Reset gradient.\n",
    "6. Minimize the cost function (backpropogate) by\n",
    "\n",
    "- Computing the rate of change of C (cost) with respect to the output activations starting at the last layer L and finishing with with L-1 where L=2 (the last back propogation).\n",
    "\n",
    "$δ^L=\\nabla_{a} C ⊙ \\sigma' (z^L)$\n",
    "OR\n",
    "$δ^L=(a^L-y) ⊙ \\sigma' (z^L)$\n",
    "\n",
    "Move the error backwards through the activation functions in layer \n",
    "${l}$. Written out in terms of the error in the next layer (moving backwards).\n",
    "\n",
    "$δ^l = (w^l+1)^T δ^{l+1} ⊙ \\sigma'(z^l)$\n",
    "\n",
    "- ${T}$ - transpose\n",
    "- ${l}$ - layer\n",
    "- ${⊙}$ - Hadamard product\n",
    "- ${𝜎}'$ - activation prime\n",
    "- ${z}'$ - (weight)(input) + bias\n",
    "\n",
    "\n",
    "The gradient of the cost function is given by \n",
    "\n",
    "### $\\frac {\\partial C} {\\partial w^{l}_{jk}} = a^{l-1}_{k} δ^l_{j}$\n",
    "\n",
    "### $\\frac {\\partial C} {\\partial b^{l}_{j}} = δ^l_{j}$\n",
    "\n",
    "7. Perform a parameter update (step) based on the gradient stored in paramater.grad.\n",
    "\n",
    "Note: No activation function for linear regression."
   ]
  },
  {
   "cell_type": "code",
   "execution_count": 17,
   "metadata": {},
   "outputs": [
    {
     "name": "stderr",
     "output_type": "stream",
     "text": [
      "\r",
      "  0%|                                                                                           | 0/50 [00:00<?, ?it/s]"
     ]
    },
    {
     "name": "stdout",
     "output_type": "stream",
     "text": [
      "epoch 1 loss: 1024.6954345703125 weight: 0.9744870662689209 bias: 0.4807196855545044\n",
      "epoch 2 loss: 542.0252075195312 weight: 2.8255763053894043 bias: 0.5348194241523743\n",
      "epoch 3 loss: 292.8390808105469 weight: 1.4955860376358032 bias: 0.4944053888320923\n",
      "epoch 4 loss: 164.19300842285156 weight: 2.4512503147125244 bias: 0.5219016671180725\n",
      "epoch 5 loss: 97.777099609375 weight: 1.764636516571045 bias: 0.5006040930747986\n",
      "epoch 6 loss: 63.488494873046875 weight: 2.2580246925354004 bias: 0.5143664479255676\n",
      "epoch 7 loss: 45.78618621826172 weight: 1.9035636186599731 bias: 0.502938449382782\n",
      "epoch 8 loss: 36.64675521850586 weight: 2.158295154571533 bias: 0.5096108317375183\n",
      "epoch 9 loss: 31.927976608276367 weight: 1.9753122329711914 bias: 0.5032785534858704\n",
      "epoch 10 loss: 29.4914608001709 weight: 2.1068339347839355 bias: 0.5062910914421082\n",
      "epoch 11 loss: 28.23318862915039 weight: 2.0123791694641113 bias: 0.502590000629425\n",
      "epoch 12 loss: 27.583202362060547 weight: 2.080292224884033 bias: 0.5037134885787964\n",
      "epoch 13 loss: 27.247243881225586 weight: 2.031541109085083 bias: 0.5013711452484131\n",
      "epoch 14 loss: 27.073415756225586 weight: 2.066615104675293 bias: 0.5015197992324829\n",
      "epoch 15 loss: 26.983291625976562 weight: 2.041459560394287 bias: 0.499879390001297\n",
      "epoch 16 loss: 26.936378479003906 weight: 2.059579610824585 bias: 0.49952518939971924\n",
      "epoch 17 loss: 26.911771774291992 weight: 2.0466055870056152 bias: 0.49824756383895874\n",
      "epoch 18 loss: 26.898691177368164 weight: 2.0559732913970947 bias: 0.4976341724395752\n",
      "epoch 19 loss: 26.89155387878418 weight: 2.049287796020508 bias: 0.4965442717075348\n",
      "epoch 20 loss: 26.887483596801758 weight: 2.0541369915008545 bias: 0.4957975149154663\n",
      "epoch 21 loss: 26.885000228881836 weight: 2.0506982803344727 bias: 0.4948049485683441\n",
      "epoch 22 loss: 26.883333206176758 weight: 2.0532143115997314 bias: 0.4939897358417511\n",
      "epoch 23 loss: 26.882089614868164 weight: 2.0514519214630127 bias: 0.493047833442688\n",
      "epoch 24 loss: 26.88106918334961 weight: 2.0527634620666504 bias: 0.4921976923942566\n",
      "epoch 25 loss: 26.880163192749023 weight: 2.0518665313720703 bias: 0.4912823736667633\n",
      "epoch 26 loss: 26.87931251525879 weight: 2.052556276321411 bias: 0.4904146194458008\n",
      "epoch 27 loss: 26.878494262695312 weight: 2.0521059036254883 bias: 0.48951342701911926\n",
      "epoch 28 loss: 26.877689361572266 weight: 2.0524747371673584 bias: 0.4886370003223419\n",
      "epoch 29 loss: 26.87689208984375 weight: 2.0522549152374268 bias: 0.4877435266971588\n",
      "epoch 30 loss: 26.87610626220703 weight: 2.0524582862854004 bias: 0.48686304688453674\n",
      "epoch 31 loss: 26.87531852722168 weight: 2.0523574352264404 bias: 0.48597395420074463\n",
      "epoch 32 loss: 26.87453269958496 weight: 2.0524749755859375 bias: 0.48509177565574646\n",
      "epoch 33 loss: 26.873750686645508 weight: 2.0524356365203857 bias: 0.48420536518096924\n",
      "epoch 34 loss: 26.87296485900879 weight: 2.052509069442749 bias: 0.48332273960113525\n",
      "epoch 35 loss: 26.87218475341797 weight: 2.052501678466797 bias: 0.4824381470680237\n",
      "epoch 36 loss: 26.87140655517578 weight: 2.0525519847869873 bias: 0.481555700302124\n",
      "epoch 37 loss: 26.870628356933594 weight: 2.052561044692993 bias: 0.4806724488735199\n",
      "epoch 38 loss: 26.86984634399414 weight: 2.0525994300842285 bias: 0.47979047894477844\n",
      "epoch 39 loss: 26.869068145751953 weight: 2.052616834640503 bias: 0.47890833020210266\n",
      "epoch 40 loss: 26.868288040161133 weight: 2.05264949798584 bias: 0.4780270457267761\n",
      "epoch 41 loss: 26.867511749267578 weight: 2.052670955657959 bias: 0.47714588046073914\n",
      "epoch 42 loss: 26.86673927307129 weight: 2.0527005195617676 bias: 0.4762653708457947\n",
      "epoch 43 loss: 26.865966796875 weight: 2.0527241230010986 bias: 0.4753850996494293\n",
      "epoch 44 loss: 26.86518669128418 weight: 2.0527520179748535 bias: 0.47450539469718933\n",
      "epoch 45 loss: 26.86441421508789 weight: 2.052777051925659 bias: 0.473626047372818\n",
      "epoch 46 loss: 26.863643646240234 weight: 2.0528039932250977 bias: 0.47274717688560486\n"
     ]
    },
    {
     "name": "stderr",
     "output_type": "stream",
     "text": [
      "\r",
      "100%|█████████████████████████████████████████████████████████████████████████████████| 50/50 [00:00<00:00, 862.08it/s]"
     ]
    },
    {
     "name": "stdout",
     "output_type": "stream",
     "text": [
      "epoch 47 loss: 26.862869262695312 weight: 2.0528295040130615 bias: 0.4718686640262604\n",
      "epoch 48 loss: 26.86210060119629 weight: 2.052855968475342 bias: 0.4709906280040741\n",
      "epoch 49 loss: 26.861330032348633 weight: 2.0528817176818848 bias: 0.47011297941207886\n",
      "epoch 50 loss: 26.86055564880371 weight: 2.052907943725586 bias: 0.46923577785491943\n"
     ]
    },
    {
     "name": "stderr",
     "output_type": "stream",
     "text": [
      "\n"
     ]
    }
   ],
   "source": [
    "epochs = 50 # 1\n",
    "losses = []\n",
    "\n",
    "for i in trange(epochs):\n",
    "    i += 1\n",
    "    y_pred = model.forward(X) # 2\n",
    "    loss = criterion(y_pred, y) # 3\n",
    "    losses.append(loss) # 4\n",
    "    print(f'epoch {i} loss: {loss.item()} weight: {model.linear.weight.item()} bias: {model.linear.bias.item()}')\n",
    "    optimizer.zero_grad() # 5\n",
    "    loss.backward() # 6\n",
    "    optimizer.step() # 7\n",
    "    "
   ]
  },
  {
   "cell_type": "markdown",
   "metadata": {},
   "source": [
    "### Convergence around the 10th epoch."
   ]
  },
  {
   "cell_type": "code",
   "execution_count": 18,
   "metadata": {
    "scrolled": false
   },
   "outputs": [
    {
     "data": {
      "text/plain": [
       "Text(0.5, 0, 'Epoch')"
      ]
     },
     "execution_count": 18,
     "metadata": {},
     "output_type": "execute_result"
    },
    {
     "data": {
      "image/png": "[encoded data removed]",
      "text/plain": [
       "<Figure size 432x288 with 1 Axes>"
      ]
     },
     "metadata": {
      "needs_background": "light"
     },
     "output_type": "display_data"
    }
   ],
   "source": [
    "plt.plot(X.numpy(), losses)\n",
    "plt.ylabel('MSE LOSS')\n",
    "plt.xlabel('Epoch')"
   ]
  },
  {
   "cell_type": "markdown",
   "metadata": {},
   "source": [
    "### Plot of prediction\n",
    "predicted_y (current weight + bias) fits to the 1x50 (2x + 1 + error) tensor.\n"
   ]
  },
  {
   "cell_type": "code",
   "execution_count": 19,
   "metadata": {},
   "outputs": [
    {
     "data": {
      "text/plain": [
       "<matplotlib.legend.Legend at 0x2b239bb80f0>"
      ]
     },
     "execution_count": 19,
     "metadata": {},
     "output_type": "execute_result"
    },
    {
     "data": {
      "image/png": "[encoded data removed]",
      "text/plain": [
       "<Figure size 432x288 with 1 Axes>"
      ]
     },
     "metadata": {
      "needs_background": "light"
     },
     "output_type": "display_data"
    }
   ],
   "source": [
    "x = np.linspace(0.0, 50.0, 50)\n",
    "current_weight = model.linear.weight.item()\n",
    "current_bias = model.linear.bias.item()\n",
    "predicted_y = current_weight*x + current_bias\n",
    "plt.scatter(X.numpy(), y.numpy(), label=\"Original values\") # Original values\n",
    "plt.plot(x, predicted_y, 'r', label=\"Fit\") # Linear fit to dataset\n",
    "plt.legend()"
   ]
  }
 ],
 "metadata": {
  "kernelspec": {
   "display_name": "Python 3",
   "language": "python",
   "name": "python3"
  },
  "language_info": {
   "codemirror_mode": {
    "name": "ipython",
    "version": 3
   },
   "file_extension": ".py",
   "mimetype": "text/x-python",
   "name": "python",
   "nbconvert_exporter": "python",
   "pygments_lexer": "ipython3",
   "version": "3.7.3"
  }
 },
 "nbformat": 4,
 "nbformat_minor": 4
}
